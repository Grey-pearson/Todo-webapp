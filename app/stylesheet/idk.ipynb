{
 "metadata": {
  "language_info": {
   "codemirror_mode": {
    "name": "ipython",
    "version": 3
   },
   "file_extension": ".py",
   "mimetype": "text/x-python",
   "name": "python",
   "nbconvert_exporter": "python",
   "pygments_lexer": "ipython3",
   "version": 3
  },
  "orig_nbformat": 2
 },
 "nbformat": 4,
 "nbformat_minor": 2,
 "cells": [
  {
   "cell_type": "markdown",
   "source": [
    "html:\n",
    "top{\n",
    "    \"todo\" + moon\n",
    "}\n",
    "\n",
    "input{\n",
    "    same styling as li but seperated and has ligher text\n",
    "    (but not marked off text)\n",
    "}\n",
    "\n",
    "main content{\n",
    "    list{\n",
    "        button + words\n",
    "    }\n",
    "    bottom bar{\n",
    "        -(num) items left\n",
    "        -all\n",
    "        -active\n",
    "        -completed\n",
    "        -clear completed\n",
    "    }\n",
    "}\n",
    "\n",
    "text{\n",
    "    \"drag and drop\" just need to make it stay in place\n",
    "}\n",
    "attribution{\n",
    "    already handeled just need to make it stay in place\n",
    "}\n",
    "\n",
    "scss:\n",
    "top{\n",
    "    space text and moon(find way to swap moon to sun) out corectly\n",
    "}\n",
    "todo{style}\n",
    "\n",
    "body{\n",
    "\n",
    "}"
   ],
   "metadata": {}
  },
  {
   "cell_type": "code",
   "execution_count": null,
   "source": [],
   "outputs": [],
   "metadata": {}
  }
 ]
}